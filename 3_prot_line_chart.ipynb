{
 "cells": [
  {
   "cell_type": "markdown",
   "metadata": {},
   "source": [
    "# 角度変化を描画"
   ]
  },
  {
   "cell_type": "code",
   "execution_count": 14,
   "metadata": {},
   "outputs": [],
   "source": [
    "import matplotlib.pyplot as plt\n",
    "%matplotlib inline\n",
    "\n",
    "plt.style.use('ggplot') \n",
    "\n",
    "import numpy as np\n",
    "import seaborn as sns\n",
    "import pandas as pd\n",
    "import math "
   ]
  },
  {
   "cell_type": "code",
   "execution_count": 15,
   "metadata": {},
   "outputs": [],
   "source": [
    "motion_frame = {\n",
    "    \"data\" : [[8,61],[290,335],[612,653]]\n",
    "}"
   ]
  },
  {
   "cell_type": "markdown",
   "metadata": {},
   "source": [
    "## 関数定義（３点のなす角を求める 0≦角度≦180）"
   ]
  },
  {
   "cell_type": "code",
   "execution_count": 16,
   "metadata": {},
   "outputs": [],
   "source": [
    "import math\n",
    "\n",
    "def get_degrees(x1,y1,x2,y2):\n",
    "    try:\n",
    "        dot = x1*x2 + y1*y2\n",
    "        vlength = math.sqrt(pow(x1, 2)+pow(y1, 2))*math.sqrt(pow(x2, 2)+pow(y2, 2))\n",
    "        rad = math.acos(dot/vlength)\n",
    "        deg = math.degrees(rad)\n",
    "    except:\n",
    "        print('get_degrees_error_{}_{}_{}_{}'.format(x1,y1,x2,y2))\n",
    "        deg = 0\n",
    "\n",
    "    return deg"
   ]
  },
  {
   "cell_type": "markdown",
   "metadata": {},
   "source": [
    "## 関数定義（角度を求める）"
   ]
  },
  {
   "cell_type": "code",
   "execution_count": 17,
   "metadata": {},
   "outputs": [],
   "source": [
    "def get_3point_degrees(df_sec, pos1_pos, base_pos, pos2_pos):\n",
    "    degrees = []\n",
    "        \n",
    "    base = df_sec.query('position == @base_pos')\n",
    "    pos1 = df_sec.query('position == @pos1_pos')\n",
    "    pos2 = df_sec.query('position == @pos2_pos') \n",
    "\n",
    "    for i in np.arange(len(base.index)):\n",
    "        deg = get_degrees(pos1.iloc[i].x-base.iloc[i].x, pos1.iloc[i].y-base.iloc[i].y, pos2.iloc[i].x-base.iloc[i].x, pos2.iloc[i].y-base.iloc[i].y)\n",
    "        degrees.append(deg)\n",
    "\n",
    "    df_deg = pd.DataFrame({\"y\":degrees, \"position\":([base_pos] * len(degrees))})\n",
    "    \n",
    "    # 欠損値を埋める\n",
    "    df_deg = df_deg.fillna(method='ffill')\n",
    "       \n",
    "    return df_deg\n",
    "        \n",
    "def get_2point_degrees(df_sec, base_pos, pos1_pos):\n",
    "    degrees = []\n",
    "        \n",
    "    base = df_sec.query('position == @base_pos')\n",
    "    pos1 = df_sec.query('position == @pos1_pos')\n",
    "\n",
    "    for i in np.arange(len(base.index)):\n",
    "        # X軸との角度を求める\n",
    "        x = abs(pos1.iloc[i].x-base.iloc[i].x)\n",
    "        y = abs(pos1.iloc[i].y-base.iloc[i].y)\n",
    "        degrees.append(math.degrees(math.atan(y / x)))\n",
    "    \n",
    "    df_deg = pd.DataFrame({\"y\":degrees, \"position\":([pos1_pos] * len(degrees))})\n",
    "\n",
    "    # 欠損値を埋める\n",
    "    df_deg = df_deg.fillna(method='ffill')\n",
    "       \n",
    "    return df_deg"
   ]
  },
  {
   "cell_type": "markdown",
   "metadata": {},
   "source": [
    "## 関数定義（折れ線グラフを描画する）"
   ]
  },
  {
   "cell_type": "code",
   "execution_count": 18,
   "metadata": {},
   "outputs": [],
   "source": [
    "def line_chart_degree(df, playerName, frame_cnt):\n",
    "    \n",
    "    for start, end in frame_cnt:\n",
    "        df_sec = df.query('@start <= frameNo & frameNo <= @end' )\n",
    "        \n",
    "        # 肩と腰\n",
    "        plt.figure(figsize=(10,7))\n",
    "        # 肩\n",
    "        df_deg = get_2point_degrees(df_sec,2, 5)\n",
    "        plt.plot(np.arange(len(df_deg.index)), df_deg[\"y\"].as_matrix(), label=\"shoulder\")\n",
    "        \n",
    "        # 腰\n",
    "        df_deg = get_2point_degrees(df_sec, 8,11)\n",
    "        plt.plot(np.arange(len(df_deg.index)), df_deg[\"y\"].as_matrix(), label=\"hip\")\n",
    "        \n",
    "        # 右肘\n",
    "        df_deg = get_3point_degrees(df_sec, 2, 3, 4)\n",
    "        plt.plot(np.arange(len(df_deg.index)), df_deg[\"y\"].as_matrix(), label=\"elbow\")\n",
    "        \n",
    "        plt.xlim([0, len(df_deg.index)])\n",
    "        plt.ylim([-10, 200])\n",
    "        plt.title('{}:{}-{}'.format(playerName, start, end), fontsize=20, fontname='serif') # タイトル\n",
    "        plt.legend(loc='upper left')\n",
    "        plt.savefig('./line_chart_{}_{}_{}.png'.format(playerName, start, end))\n",
    "        plt.close()\n"
   ]
  },
  {
   "cell_type": "markdown",
   "metadata": {},
   "source": [
    "## 折れ線グラフを作成"
   ]
  },
  {
   "cell_type": "code",
   "execution_count": 19,
   "metadata": {},
   "outputs": [
    {
     "name": "stderr",
     "output_type": "stream",
     "text": [
      "C:\\tools\\Anaconda3\\envs\\dev\\lib\\site-packages\\ipykernel_launcher.py:10: FutureWarning: Method .as_matrix will be removed in a future version. Use .values instead.\n",
      "  # Remove the CWD from sys.path while we load stuff.\n",
      "C:\\tools\\Anaconda3\\envs\\dev\\lib\\site-packages\\ipykernel_launcher.py:14: FutureWarning: Method .as_matrix will be removed in a future version. Use .values instead.\n",
      "  \n",
      "C:\\tools\\Anaconda3\\envs\\dev\\lib\\site-packages\\ipykernel_launcher.py:18: FutureWarning: Method .as_matrix will be removed in a future version. Use .values instead.\n"
     ]
    },
    {
     "name": "stdout",
     "output_type": "stream",
     "text": [
      "get_degrees_error_23_-108_-23_108\n"
     ]
    }
   ],
   "source": [
    "for playerName, frame_cnt in motion_frame.items():\n",
    "    \n",
    "    # 画像の座標データを取得する\n",
    "    df = pd.read_csv('./motion_data.csv')\n",
    "    \n",
    "    # 折れ線グラフ\n",
    "    line_chart_degree(df ,playerName, frame_cnt)    "
   ]
  },
  {
   "cell_type": "code",
   "execution_count": null,
   "metadata": {},
   "outputs": [],
   "source": []
  }
 ],
 "metadata": {
  "kernelspec": {
   "display_name": "Python 3",
   "language": "python",
   "name": "python3"
  },
  "language_info": {
   "codemirror_mode": {
    "name": "ipython",
    "version": 3
   },
   "file_extension": ".py",
   "mimetype": "text/x-python",
   "name": "python",
   "nbconvert_exporter": "python",
   "pygments_lexer": "ipython3",
   "version": "3.6.5"
  }
 },
 "nbformat": 4,
 "nbformat_minor": 2
}
