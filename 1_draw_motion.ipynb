{
 "cells": [
  {
   "cell_type": "markdown",
   "metadata": {},
   "source": [
    "# ピッチング動作分析（画像に軌跡をプロット）"
   ]
  },
  {
   "cell_type": "code",
   "execution_count": 13,
   "metadata": {},
   "outputs": [],
   "source": [
    "import numpy as np\n",
    "import pandas as pd\n",
    "import math \n",
    "import copy\n",
    "import cv2\n",
    "import os"
   ]
  },
  {
   "cell_type": "markdown",
   "metadata": {},
   "source": [
    "# ピッチング動作"
   ]
  },
  {
   "cell_type": "code",
   "execution_count": 19,
   "metadata": {},
   "outputs": [],
   "source": [
    "motion_frame = {\n",
    "    \"player1\" : [[8,61],[290,336],[612,655]]\n",
    "}"
   ]
  },
  {
   "cell_type": "markdown",
   "metadata": {},
   "source": [
    "## 関数定義（モーションのStart-Endの全xy座標を取得）"
   ]
  },
  {
   "cell_type": "code",
   "execution_count": 20,
   "metadata": {},
   "outputs": [],
   "source": [
    "#\n",
    "# OpenCVを使って軌道を描画\n",
    "# \n",
    "target_pos = 4 # 右手首\n",
    "\n",
    "def get_motion_pos(df_input, start, end):\n",
    "    df_sec = df_input.query('position == @target_pos and @start <= frameNo & frameNo <= @end' )\n",
    "    return df_sec[['x','y']]    "
   ]
  },
  {
   "cell_type": "markdown",
   "metadata": {},
   "source": [
    "## 関数定義（軌道を描画）"
   ]
  },
  {
   "cell_type": "code",
   "execution_count": 21,
   "metadata": {},
   "outputs": [],
   "source": [
    "color = [255, 255, 255]\n",
    "#\n",
    "# OpenCVを使って軌道を描画\n",
    "# \n",
    "def draw_motion(org_img, xy_df):\n",
    "    canvas = org_img.copy()\n",
    "    for i in np.arange(xy_df.shape[0]):\n",
    "        # 点を描画\n",
    "        cv2.circle(canvas, (int(xy_df['x'].iloc[i]), int(xy_df['y'].iloc[i])), 4, color, -1)\n",
    "        if i !=0:\n",
    "            # 線を描画\n",
    "            cv2.line(canvas, (int(xy_df['x'].iloc[i-1]), int(xy_df['y'].iloc[i-1])), (int(xy_df['x'].iloc[i]),int(xy_df['y'].iloc[i])), color , 3)\n",
    "    return canvas"
   ]
  },
  {
   "cell_type": "markdown",
   "metadata": {},
   "source": [
    "## 画像に座標を描画"
   ]
  },
  {
   "cell_type": "code",
   "execution_count": 23,
   "metadata": {},
   "outputs": [
    {
     "name": "stdout",
     "output_type": "stream",
     "text": [
      "      Unnamed: 0  frameNo  position  SEQ  No       filepPath     x    y\n",
      "0              0        8         0    0   1    ./data/8.jpg   813  270\n",
      "1             15        9         0    0   1    ./data/9.jpg   813  273\n",
      "2             30       10         0    0   1   ./data/10.jpg   817  277\n",
      "3             45       11         0    0   1   ./data/11.jpg   820  280\n",
      "4             60       12         0    0   1   ./data/12.jpg   817  284\n",
      "5             75       13         0    0   1   ./data/13.jpg   813  284\n",
      "6             90       14         0    0   1   ./data/14.jpg   810  287\n",
      "7            105       15         0    0   1   ./data/15.jpg   807  287\n",
      "8            120       16         0    0   1   ./data/16.jpg   803  287\n",
      "9            135       17         0    0   1   ./data/17.jpg   803  284\n",
      "10           150       18         0    0   1   ./data/18.jpg   800  284\n",
      "11           165       19         0    0   1   ./data/19.jpg   797  284\n",
      "12           180       20         0    0   1   ./data/20.jpg   790  280\n",
      "13           195       21         0    0   1   ./data/21.jpg   787  280\n",
      "14           210       22         0    0   1   ./data/22.jpg   783  280\n",
      "15           225       23         0    0   1   ./data/23.jpg   780  280\n",
      "16           240       24         0    0   1   ./data/24.jpg   780  280\n",
      "17           255       25         0    0   1   ./data/25.jpg   780  280\n",
      "18           270       26         0    0   1   ./data/26.jpg   777  284\n",
      "19           285       27         0    0   1   ./data/27.jpg   777  287\n",
      "20           300       28         0    0   1   ./data/28.jpg   770  290\n",
      "21           315       29         0    0   1   ./data/29.jpg   767  294\n",
      "22           330       30         0    0   1   ./data/30.jpg   767  304\n",
      "23           345       31         0    0   1   ./data/31.jpg   763  310\n",
      "24           360       32         0    0   1   ./data/32.jpg   763  314\n",
      "25           375       33         0    0   1   ./data/33.jpg   763  324\n",
      "26           390       34         0    0   1   ./data/34.jpg   763  327\n",
      "27           405       35         0    0   1   ./data/35.jpg   763  334\n",
      "28           420       36         0    0   1   ./data/36.jpg   773  334\n",
      "29           435       37         0    0   1   ./data/37.jpg   780  338\n",
      "...          ...      ...       ...  ...  ..             ...   ...  ...\n",
      "2145         224      626        15   15   1  ./data/626.jpg   803  263\n",
      "2146         239      627        15   15   1  ./data/627.jpg   803  270\n",
      "2147         254      628        15   15   1  ./data/628.jpg   803  280\n",
      "2148         269      629        15   15   1  ./data/629.jpg   803  284\n",
      "2149         284      630        15   15   1  ./data/630.jpg   807  287\n",
      "2150         299      631        15   15   1  ./data/631.jpg   810  290\n",
      "2151         314      632        15   15   1  ./data/632.jpg   820  297\n",
      "2152         329      633        15   15   1  ./data/633.jpg   827  300\n",
      "2153         344      634        15   15   1  ./data/634.jpg   847  304\n",
      "2154         359      635        15   15   1  ./data/635.jpg   857  304\n",
      "2155         374      636        15   15   1  ./data/636.jpg   880  300\n",
      "2156         389      637        15   15   1  ./data/637.jpg   903  297\n",
      "2157         404      638        15   15   1  ./data/638.jpg   933  290\n",
      "2158         419      639        15   15   1  ./data/639.jpg   970  287\n",
      "2159         434      640        15   15   1  ./data/640.jpg  1003  284\n",
      "2160         449      641        15   15   1  ./data/641.jpg  1043  277\n",
      "2161         464      642        15   15   1  ./data/642.jpg  1087  280\n",
      "2162         479      643        15   15   1  ./data/643.jpg  1120  287\n",
      "2163         494      644        15   15   1  ./data/643.jpg  1120  287\n",
      "2164         509      645        15   15   1  ./data/645.jpg  1187  290\n",
      "2165         524      646        15   15   1  ./data/645.jpg  1187  290\n",
      "2166         539      647        15   15   1  ./data/645.jpg  1187  290\n",
      "2167         554      648        15   15   1  ./data/645.jpg  1187  290\n",
      "2168         569      649        15   15   1  ./data/645.jpg  1187  290\n",
      "2169         584      650        15   15   1  ./data/645.jpg  1187  290\n",
      "2170         599      651        15   15   1  ./data/645.jpg  1187  290\n",
      "2171         614      652        15   15   1  ./data/645.jpg  1187  290\n",
      "2172         629      653        15   15   1  ./data/645.jpg  1187  290\n",
      "2173         644      654        15   15   1  ./data/645.jpg  1187  290\n",
      "2174         659      655        15   15   1  ./data/645.jpg  1187  290\n",
      "\n",
      "[2175 rows x 8 columns]\n"
     ]
    }
   ],
   "source": [
    "input_dir = 'drive'\n",
    "output_dir = 'drive'\n",
    "\n",
    "for playerName, frame_cnt in motion_frame.items():\n",
    "    \n",
    "    # 画像の座標データを取得する\n",
    "    df = pd.read_csv('./motion_data.csv')\n",
    "    \n",
    "    # モーションのStart-Endのxy座標を取得\n",
    "    xy_df = get_motion_pos(df, start, end)\n",
    "    \n",
    "    # 画像にモーションの座標を描画\n",
    "    for j in np.arange(start, end + 1):\n",
    "        # 画像を\n",
    "        img_path = './{}/out_born_{}.jpg'.format(input_dir, j)\n",
    "\n",
    "        # read image\n",
    "        img = cv2.imread(img_path)\n",
    "\n",
    "        # draw coorinate \n",
    "        img = draw_motion(img, xy_df)\n",
    "        \n",
    "        # save image\n",
    "        cv2.imwrite('./{}/out_{}.jpg'.format(output_dir,j), img)\n"
   ]
  },
  {
   "cell_type": "code",
   "execution_count": null,
   "metadata": {},
   "outputs": [],
   "source": []
  }
 ],
 "metadata": {
  "kernelspec": {
   "display_name": "Python 3",
   "language": "python",
   "name": "python3"
  },
  "language_info": {
   "codemirror_mode": {
    "name": "ipython",
    "version": 3
   },
   "file_extension": ".py",
   "mimetype": "text/x-python",
   "name": "python",
   "nbconvert_exporter": "python",
   "pygments_lexer": "ipython3",
   "version": "3.6.5"
  },
  "toc": {
   "nav_menu": {},
   "number_sections": true,
   "sideBar": true,
   "skip_h1_title": false,
   "title_cell": "Table of Contents",
   "title_sidebar": "Contents",
   "toc_cell": false,
   "toc_position": {},
   "toc_section_display": true,
   "toc_window_display": false
  }
 },
 "nbformat": 4,
 "nbformat_minor": 2
}
