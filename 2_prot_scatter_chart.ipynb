{
 "cells": [
  {
   "cell_type": "markdown",
   "metadata": {},
   "source": [
    "# ピッチング動作分析（散布図・回帰）"
   ]
  },
  {
   "cell_type": "code",
   "execution_count": 7,
   "metadata": {},
   "outputs": [],
   "source": [
    "import matplotlib.pyplot as plt\n",
    "%matplotlib inline\n",
    "\n",
    "plt.style.use('ggplot') \n",
    "\n",
    "import numpy as np\n",
    "import seaborn as sns\n",
    "import pandas as pd\n",
    "import math \n",
    "import os"
   ]
  },
  {
   "cell_type": "code",
   "execution_count": 8,
   "metadata": {},
   "outputs": [],
   "source": [
    "motion_frame = {\n",
    "    \"player1\" : [[8,61],[290,336],[612,655]]\n",
    "}"
   ]
  },
  {
   "cell_type": "markdown",
   "metadata": {},
   "source": [
    "## 散布図・回帰モデル\n",
    "\n",
    "～参考～\n",
    "https://pythondatascience.plavox.info/seaborn/%E6%95%A3%E5%B8%83%E5%9B%B3%E3%83%BB%E5%9B%9E%E5%B8%B0%E3%83%A2%E3%83%87%E3%83%AB"
   ]
  },
  {
   "cell_type": "code",
   "execution_count": 9,
   "metadata": {},
   "outputs": [
    {
     "data": {
      "text/plain": [
       "<Figure size 720x504 with 0 Axes>"
      ]
     },
     "metadata": {},
     "output_type": "display_data"
    },
    {
     "data": {
      "text/plain": [
       "<Figure size 720x504 with 0 Axes>"
      ]
     },
     "metadata": {},
     "output_type": "display_data"
    },
    {
     "data": {
      "text/plain": [
       "<Figure size 720x504 with 0 Axes>"
      ]
     },
     "metadata": {},
     "output_type": "display_data"
    }
   ],
   "source": [
    "for playerName, frame_cnt in motion_frame.items():\n",
    "    \n",
    "    # 画像の座標データを取得する\n",
    "    df = pd.read_csv('./motion_data.csv')\n",
    "    \n",
    "    for start, end in frame_cnt:\n",
    "        # 右手首の軌道\n",
    "        df_sec = df.query('position == 4 and @start <= frameNo & frameNo <= @end' )\n",
    "\n",
    "        # 散布図\n",
    "        plt.figure(figsize=(10,7))\n",
    "        g = sns.lmplot(x=\"x\", y=\"y\", size=10, hue=\"position\", scatter=True, fit_reg=False, data=df_sec)\n",
    "        g.set(xlim=(500, 1600), ylim=(1000, 0))\n",
    "        plt.savefig('./lmplot_{}_{}.png'.format(start, end))\n",
    "        plt.close()\n",
    "\n",
    "        # 多項式回帰（３次）\n",
    "        plt.figure(figsize=(10,7))\n",
    "        g = sns.regplot(x=\"x\", y=\"y\", data=df_sec, order=3)\n",
    "        g.set(xlim=(500, 1600), ylim=(1000, 0))\n",
    "        plt.savefig('./regplot_{}_{}.png'.format(start, end),dpi=50)\n",
    "        plt.close()\n",
    "\n"
   ]
  },
  {
   "cell_type": "code",
   "execution_count": null,
   "metadata": {},
   "outputs": [],
   "source": []
  }
 ],
 "metadata": {
  "kernelspec": {
   "display_name": "Python 3",
   "language": "python",
   "name": "python3"
  },
  "language_info": {
   "codemirror_mode": {
    "name": "ipython",
    "version": 3
   },
   "file_extension": ".py",
   "mimetype": "text/x-python",
   "name": "python",
   "nbconvert_exporter": "python",
   "pygments_lexer": "ipython3",
   "version": "3.6.5"
  }
 },
 "nbformat": 4,
 "nbformat_minor": 2
}
